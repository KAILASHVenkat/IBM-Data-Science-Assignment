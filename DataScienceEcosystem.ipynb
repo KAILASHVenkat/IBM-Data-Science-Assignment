{
  "metadata": {
    "kernelspec": {
      "name": "python",
      "display_name": "Python (Pyodide)",
      "language": "python"
    },
    "language_info": {
      "codemirror_mode": {
        "name": "python",
        "version": 3
      },
      "file_extension": ".py",
      "mimetype": "text/x-python",
      "name": "python",
      "nbconvert_exporter": "python",
      "pygments_lexer": "ipython3",
      "version": "3.8"
    }
  },
  "nbformat_minor": 4,
  "nbformat": 4,
  "cells": [
    {
      "cell_type": "markdown",
      "source": "**DataScienceEcosystem**",
      "metadata": {}
    },
    {
      "cell_type": "markdown",
      "source": "In this notebook, the basic data science tools and libraries taught in this course are summarized.",
      "metadata": {}
    },
    {
      "cell_type": "markdown",
      "source": "Popular Data Science Languages :\n1. Python\n2. R\n3. Scala\n4. JavaScript\n5. C++\n6. Java",
      "metadata": {}
    },
    {
      "cell_type": "markdown",
      "source": "Some commonly used data science libraries are:\n1. PyTorch\n2. Tensorflow\n3. NumPy",
      "metadata": {}
    },
    {
      "cell_type": "markdown",
      "source": "Some popular data science tools are:\n|Sl.No     |Tool               |\n|----------|-------------------|\n|1)        | Apache Spark      |  \n|2)        | Apache Hadoop     |\n|3)        | GitHub            |\n|4)        | GitLab            |\n|5)        | Google Colab      |\n|6)        | Jupyter Notebooks |\n|7)        | Jupyter Lab       |",
      "metadata": {}
    },
    {
      "cell_type": "markdown",
      "source": "Given below are some arithmetic expressions in python :\n1. 1+1*2\n2. a/b^c",
      "metadata": {}
    },
    {
      "cell_type": "code",
      "source": "a=5\nb=4\nc=a+b\nd=a*b\nprint(\"Sum:\",c)\nprint(\"Product:\",d)",
      "metadata": {
        "trusted": true
      },
      "outputs": [
        {
          "name": "stdout",
          "text": "Sum: 9\nProduct: 20\n",
          "output_type": "stream"
        }
      ],
      "execution_count": 1
    },
    {
      "cell_type": "code",
      "source": "mins=60\nhours=int(mins)/60\nprint(\"Hours:\",hours)",
      "metadata": {
        "trusted": true
      },
      "outputs": [
        {
          "name": "stdout",
          "text": "Hours: 1.0\n",
          "output_type": "stream"
        }
      ],
      "execution_count": 5
    },
    {
      "cell_type": "markdown",
      "source": "Objectives:\n* Listing popular data science languages\n* Listing popular data science tools\n* Creating markdowns in JupyterLite",
      "metadata": {}
    },
    {
      "cell_type": "markdown",
      "source": "## Author\nS. Kailash Venkat",
      "metadata": {}
    },
    {
      "cell_type": "code",
      "source": "",
      "metadata": {
        "trusted": true
      },
      "outputs": [],
      "execution_count": null
    }
  ]
}